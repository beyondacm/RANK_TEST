{
 "cells": [
  {
   "cell_type": "code",
   "execution_count": 1,
   "metadata": {
    "collapsed": true
   },
   "outputs": [],
   "source": [
    "import pandas as pd\n",
    "import numpy as np\n",
    "import operator\n",
    "import re"
   ]
  },
  {
   "cell_type": "code",
   "execution_count": 2,
   "metadata": {
    "collapsed": true
   },
   "outputs": [],
   "source": [
    "def readDict(filename, sep):\n",
    "    with open(filename, \"r\") as f:\n",
    "        dict = {}\n",
    "        for line in f:\n",
    "            values = line.split(sep)\n",
    "            key = values[0]\n",
    "            value = values[1].strip().split(',')\n",
    "            results = map(int, value)\n",
    "            #dict[values[0]] = {int(x) for x in values[1:len(values)]}\n",
    "            dict[key] = results\n",
    "        return(dict)"
   ]
  },
  {
   "cell_type": "code",
   "execution_count": 3,
   "metadata": {
    "collapsed": false
   },
   "outputs": [],
   "source": [
    "Total_Test = pd.read_csv('../Total_Test_AfterProcessing.csv')"
   ]
  },
  {
   "cell_type": "code",
   "execution_count": 4,
   "metadata": {
    "collapsed": false
   },
   "outputs": [],
   "source": [
    "# LEVEL = '1000x5/'\n",
    "# LEVEL = '1000x6/'\n",
    "# LEVEL = '1000x7/'\n",
    "# LEVEL = '1000x8/'\n",
    "# LEVEL = '1000x9/'\n",
    "LEVEL = '1000x10/'\n",
    "similar_index_00 = readDict('../SIMILAR/' + LEVEL + 'SIMILAR_INDEX/similar_index_00.txt', ':')\n",
    "similar_index_01 = readDict('../SIMILAR/' + LEVEL + 'SIMILAR_INDEX/similar_index_01.txt', ':')\n",
    "similar_index_02 = readDict('../SIMILAR/' + LEVEL + 'SIMILAR_INDEX/similar_index_02.txt', ':')\n",
    "similar_index_03 = readDict('../SIMILAR/' + LEVEL + 'SIMILAR_INDEX/similar_index_03.txt', ':')\n",
    "similar_index_04 = readDict('../SIMILAR/' + LEVEL + 'SIMILAR_INDEX/similar_index_04.txt', ':')\n",
    "similar_index_05 = readDict('../SIMILAR/' + LEVEL + 'SIMILAR_INDEX/similar_index_05.txt', ':')\n",
    "similar_index_06 = readDict('../SIMILAR/' + LEVEL + 'SIMILAR_INDEX/similar_index_06.txt', ':')\n",
    "similar_index_07 = readDict('../SIMILAR/' + LEVEL + 'SIMILAR_INDEX/similar_index_07.txt', ':')\n",
    "similar_index_08 = readDict('../SIMILAR/' + LEVEL + 'SIMILAR_INDEX/similar_index_08.txt', ':')\n",
    "similar_index_09 = readDict('../SIMILAR/' + LEVEL + 'SIMILAR_INDEX/similar_index_09.txt', ':')"
   ]
  },
  {
   "cell_type": "code",
   "execution_count": 5,
   "metadata": {
    "collapsed": false,
    "scrolled": true
   },
   "outputs": [
    {
     "data": {
      "text/plain": [
       "100"
      ]
     },
     "execution_count": 5,
     "metadata": {},
     "output_type": "execute_result"
    }
   ],
   "source": [
    "len( similar_index_00 )"
   ]
  },
  {
   "cell_type": "code",
   "execution_count": 6,
   "metadata": {
    "collapsed": true
   },
   "outputs": [],
   "source": [
    "def Generate_Test_Set(Dataset, Index_List):\n",
    "    # get the dataframe according to the Index\n",
    "    Test = Dataset.iloc[Index_List]\n",
    "    TestSet = pd.DataFrame(Test)\n",
    "    \n",
    "    return TestSet"
   ]
  },
  {
   "cell_type": "code",
   "execution_count": 7,
   "metadata": {
    "collapsed": true
   },
   "outputs": [],
   "source": [
    "def Replace_QList(Data_Set, Q_IndexList) :\n",
    "    Q_Content = Total_Test.iloc[ [ Q_IndexList[0] ] ]['question_content'].all()\n",
    "    Q_Tags = Total_Test.iloc[ [ Q_IndexList[0] ] ]['question_tags'].all()\n",
    "    Data_Set['question_content'] = Q_Content\n",
    "    Data_Set['question_tags'] = Q_Tags\n",
    "    return Data_Set"
   ]
  },
  {
   "cell_type": "code",
   "execution_count": 8,
   "metadata": {
    "collapsed": false
   },
   "outputs": [],
   "source": [
    "def Get_Final_Test_Set(Similar_Index_List) :\n",
    "    \n",
    "    total_numOfTest = 0\n",
    "    Test_Len = []\n",
    "    \n",
    "    # Initial Final_Test_Set\n",
    "    value_0 = Similar_Index_List['Q0_Similar_List']\n",
    "    Final_Test_Set = Generate_Test_Set(Total_Test, value_0)\n",
    "    Final_Test_Set = Replace_QList(Final_Test_Set, value_0)\n",
    "    Test_Len.append( len(value_0) )\n",
    "    total_numOfTest += len(value_0)\n",
    "    \n",
    "    for i in range(1, len(Similar_Index_List) ) :\n",
    "        key = 'Q' + str(i) + '_Similar_List'\n",
    "        value = Similar_Index_List[key]\n",
    "        # print len( value )\n",
    "        Test_Len.append( len(value) )\n",
    "        total_numOfTest += len(value)\n",
    "\n",
    "        Qi_Test = Generate_Test_Set(Total_Test, value)\n",
    "        Qi_Test = Replace_QList( Qi_Test, value)\n",
    "        Final_Test_Set = Final_Test_Set.append(Qi_Test)\n",
    "\n",
    "    print total_numOfTest\n",
    "    return Test_Len, Final_Test_Set\n",
    "\n",
    "# print Final_Test"
   ]
  },
  {
   "cell_type": "code",
   "execution_count": 9,
   "metadata": {
    "collapsed": false
   },
   "outputs": [
    {
     "name": "stdout",
     "output_type": "stream",
     "text": [
      "1354\n",
      "1339\n",
      "1301\n",
      "1343\n",
      "1391\n",
      "1406\n",
      "1385\n",
      "1368\n",
      "1366\n",
      "1417\n"
     ]
    }
   ],
   "source": [
    "Len_00 ,Final_Test_00 = Get_Final_Test_Set(similar_index_00)\n",
    "Len_01 ,Final_Test_01 = Get_Final_Test_Set(similar_index_01)\n",
    "Len_02 ,Final_Test_02 = Get_Final_Test_Set(similar_index_02)\n",
    "Len_03 ,Final_Test_03 = Get_Final_Test_Set(similar_index_03)\n",
    "Len_04 ,Final_Test_04 = Get_Final_Test_Set(similar_index_04)\n",
    "Len_05 ,Final_Test_05 = Get_Final_Test_Set(similar_index_05)\n",
    "Len_06 ,Final_Test_06 = Get_Final_Test_Set(similar_index_06)\n",
    "Len_07 ,Final_Test_07 = Get_Final_Test_Set(similar_index_07)\n",
    "Len_08 ,Final_Test_08 = Get_Final_Test_Set(similar_index_08)\n",
    "Len_09 ,Final_Test_09 = Get_Final_Test_Set(similar_index_09)"
   ]
  },
  {
   "cell_type": "code",
   "execution_count": 10,
   "metadata": {
    "collapsed": true
   },
   "outputs": [],
   "source": [
    "Final_Test_00.to_csv('./' + LEVEL + 'Final_Test_Set/Final_Test_00.csv', encoding='utf-8', index = False)\n",
    "Final_Test_01.to_csv('./' + LEVEL + 'Final_Test_Set/Final_Test_01.csv', encoding='utf-8', index = False)\n",
    "Final_Test_02.to_csv('./' + LEVEL + 'Final_Test_Set/Final_Test_02.csv', encoding='utf-8', index = False)\n",
    "Final_Test_03.to_csv('./' + LEVEL + 'Final_Test_Set/Final_Test_03.csv', encoding='utf-8', index = False)\n",
    "Final_Test_04.to_csv('./' + LEVEL + 'Final_Test_Set/Final_Test_04.csv', encoding='utf-8', index = False)\n",
    "Final_Test_05.to_csv('./' + LEVEL + 'Final_Test_Set/Final_Test_05.csv', encoding='utf-8', index = False)\n",
    "Final_Test_06.to_csv('./' + LEVEL + 'Final_Test_Set/Final_Test_06.csv', encoding='utf-8', index = False)\n",
    "Final_Test_07.to_csv('./' + LEVEL + 'Final_Test_Set/Final_Test_07.csv', encoding='utf-8', index = False)\n",
    "Final_Test_08.to_csv('./' + LEVEL + 'Final_Test_Set/Final_Test_08.csv', encoding='utf-8', index = False)\n",
    "Final_Test_09.to_csv('./' + LEVEL + 'Final_Test_Set/Final_Test_09.csv', encoding='utf-8', index = False)"
   ]
  },
  {
   "cell_type": "code",
   "execution_count": 11,
   "metadata": {
    "collapsed": true
   },
   "outputs": [],
   "source": [
    "def writeList(filename, thelist) :\n",
    "    \n",
    "    with open(filename, \"w\") as f:\n",
    "        f.write( ' '.join(str(x) for x in thelist) )\n",
    "            # print item\n",
    "            # print>>thefile, item"
   ]
  },
  {
   "cell_type": "code",
   "execution_count": 12,
   "metadata": {
    "collapsed": false
   },
   "outputs": [],
   "source": [
    "writeList('./' + LEVEL + 'Final_Test_Set/Len_00.txt', Len_00)\n",
    "writeList('./' + LEVEL + 'Final_Test_Set/Len_01.txt', Len_01)\n",
    "writeList('./' + LEVEL + 'Final_Test_Set/Len_02.txt', Len_02)\n",
    "writeList('./' + LEVEL + 'Final_Test_Set/Len_03.txt', Len_03)\n",
    "writeList('./' + LEVEL + 'Final_Test_Set/Len_04.txt', Len_04)\n",
    "writeList('./' + LEVEL + 'Final_Test_Set/Len_05.txt', Len_05)\n",
    "writeList('./' + LEVEL + 'Final_Test_Set/Len_06.txt', Len_06)\n",
    "writeList('./' + LEVEL + 'Final_Test_Set/Len_07.txt', Len_07)\n",
    "writeList('./' + LEVEL + 'Final_Test_Set/Len_08.txt', Len_08)\n",
    "writeList('./' + LEVEL + 'Final_Test_Set/Len_09.txt', Len_09)"
   ]
  },
  {
   "cell_type": "code",
   "execution_count": 13,
   "metadata": {
    "collapsed": false
   },
   "outputs": [
    {
     "name": "stdout",
     "output_type": "stream",
     "text": [
      "[11, 14, 22, 18, 12, 19, 10, 12, 12, 13, 13, 20, 14, 13, 12, 19, 11, 14, 11, 21, 18, 13, 12, 11, 12, 18, 12, 16, 18, 16, 16, 15, 18, 11, 17, 16, 13, 13, 13, 19, 13, 17, 13, 11, 17, 12, 14, 13, 18, 15, 18, 13, 17, 13, 10, 15, 15, 13, 12, 18, 14, 11, 11, 13, 13, 10, 18, 12, 15, 14, 14, 13, 14, 11, 12, 10, 11, 19, 11, 14, 14, 13, 15, 12, 13, 12, 13, 19, 14, 12, 12, 15, 12, 10, 17, 13, 13, 22, 15, 16]\n"
     ]
    }
   ],
   "source": [
    "print Len_09"
   ]
  },
  {
   "cell_type": "code",
   "execution_count": null,
   "metadata": {
    "collapsed": true
   },
   "outputs": [],
   "source": []
  }
 ],
 "metadata": {
  "kernelspec": {
   "display_name": "Python 2",
   "language": "python",
   "name": "python2"
  },
  "language_info": {
   "codemirror_mode": {
    "name": "ipython",
    "version": 2
   },
   "file_extension": ".py",
   "mimetype": "text/x-python",
   "name": "python",
   "nbconvert_exporter": "python",
   "pygments_lexer": "ipython2",
   "version": "2.7.10"
  }
 },
 "nbformat": 4,
 "nbformat_minor": 0
}
