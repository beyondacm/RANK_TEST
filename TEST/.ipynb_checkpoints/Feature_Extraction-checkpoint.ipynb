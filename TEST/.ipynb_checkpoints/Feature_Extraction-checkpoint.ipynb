{
 "cells": [
  {
   "cell_type": "code",
   "execution_count": 1,
   "metadata": {
    "collapsed": true
   },
   "outputs": [],
   "source": [
    "import pandas as pd\n",
    "import numpy as np\n",
    "import operator\n",
    "import re\n",
    "import sys\n",
    "import os"
   ]
  },
  {
   "cell_type": "markdown",
   "metadata": {},
   "source": [
    "# Extract Features From Test_Set"
   ]
  },
  {
   "cell_type": "code",
   "execution_count": 2,
   "metadata": {
    "collapsed": true
   },
   "outputs": [],
   "source": [
    "def extract_normal_features(path_in, path_normal): \n",
    "    m = pd.read_csv(path_in)\n",
    "\n",
    "    # calculate the features\n",
    "    # question_id :\n",
    "    question_id = m['question_id']\n",
    "    question_id.to_csv(path_normal+'/qid.txt')\n",
    "\n",
    "    # vote :\n",
    "    vote = m['answer_voted']\n",
    "    vote.to_csv(path_normal+'/vote.txt')\n",
    "\n",
    "    # feature1 : length of the answer_content \n",
    "    #answer_content = m[['answer_content','user_id']]\n",
    "    answer_content = m['answer_content']\n",
    "    # f1 : length of the answer_content\n",
    "    f1 = answer_content.str.len()\n",
    "    f1.to_csv(path_normal+'/f1.txt')\n",
    "    #print answer_content\n",
    "\n",
    "\n",
    "    # feature2 : length of the user_introduction\n",
    "    user_intro = m['user_intro']\n",
    "    #print user_intro\n",
    "    f2 = user_intro.str.len()\n",
    "    f2.to_csv(path_normal+'/f2.txt')\n",
    "    #print f2\n",
    "\n",
    "\n",
    "    # feature3 : length of the question_content\n",
    "    question_content = m['question_content']\n",
    "    f3 = question_content.str.len()\n",
    "    #print f3\n",
    "    f3.to_csv(path_normal+'/f3.txt')\n",
    "\n",
    "\n",
    "    # feature4: user's experience years\n",
    "    user_exp = m['user_exp']\n",
    "    f4 = m['user_exp']\n",
    "    f4 = f4.str.extract('([0-9]*)')\n",
    "    f4.to_csv(path_normal+'/f4.txt')\n",
    "    #print f4\n",
    "\n",
    "    # feature5 : length of the user's edu\n",
    "    user_edu = m['user_edu']\n",
    "    f5 = user_edu.str.len()\n",
    "    f5.to_csv(path_normal+'/f5.txt')\n",
    "    #print f5\n",
    "\n",
    "\n",
    "    # feature6 : number of topics of user's interest\n",
    "    user_interest = m['user_interest'].str.split(' ')\n",
    "    f6 = user_interest.str.len()\n",
    "    f6.to_csv(path_normal+'/f6.txt')\n",
    "    #print f6\n",
    "\n",
    "\n",
    "    # feature7 : number of the people user followed\n",
    "    user_followed = m['user_followed'].str.split(',')\n",
    "    f7 = user_followed.str.len()\n",
    "    f7.to_csv(path_normal+'/f7.txt')\n",
    "    #print f7\n",
    "\n",
    "    # feature8 : number of the question tags\n",
    "    question_tags = m['question_tags'].str.split(' ')\n",
    "    f8 = question_tags.str.len()\n",
    "    f8.to_csv(path_normal+'/f8.txt')\n",
    "    #print f8\n",
    "\n",
    "\n",
    "    # feature9 : number of saved lives\n",
    "    saved_lives = m['user_saved']\n",
    "    f9 = saved_lives\n",
    "    f9.to_csv(path_normal+'/f9.txt')\n",
    "    #print f9\n",
    "\n",
    "\n",
    "    # feature10 : number of recieved thanks\n",
    "    recieved_thanks = m['user_thanks']\n",
    "    #recieved_thanks = str(recieved_thanks)\n",
    "    f10 = recieved_thanks.str.replace(',','')\n",
    "    f10.to_csv(path_normal+'/f10.txt')\n",
    "    #print f10\n",
    "\n",
    "\n",
    "    # feature11 : number of agrees\n",
    "    recieved_agrees = m['user_agrees']\n",
    "    f11 = recieved_agrees.str.replace(',','')\n",
    "    f11.to_csv(path_normal+'/f11.txt')\n",
    "    #print f11\n",
    "\n",
    "\n",
    "    # feature12 : nuber of helped people\n",
    "    helped = m['user_helped']\n",
    "    f12 = helped.str.replace(',','')\n",
    "    f12.to_csv(path_normal+'/f12.txt')\n",
    "    #print f12\n",
    "\n",
    "\n",
    "    # feature13 : number of doctor recommend\n",
    "    recommend = m['user_recommends']\n",
    "    f13 = recommend.str.len()\n",
    "    f13.to_csv(path_normal+'/f13.txt')\n",
    "    #print f13\n",
    "\n",
    "\n",
    "# Extracting for the TEXT FEATRUES\n",
    "def extract_text_features(path_in, path_text):\n",
    "    \n",
    "    m = pd.read_csv(path_in)\n",
    "\n",
    "    # Process with the question_content\n",
    "    qc = m['question_content']\n",
    "    qc.to_csv(path_text+'/question_content.txt', encoding='utf-8', index = False)\n",
    "\n",
    "    # Process with the answer_content\n",
    "    ac = m['answer_content']\n",
    "    ac.to_csv(path_text+'/answer_content.txt', encoding='utf-8', index = False)\n",
    "\n",
    "    # Process with the user_recommends\n",
    "    ur = m['user_recommends'].astype(str)\n",
    "    ur.to_csv(path_text+'/user_recommends.txt', encoding='utf-8', index = False)\n",
    "\n",
    "    # Process with question_tags\n",
    "    qt = m['question_tags'].astype(str)\n",
    "    qt.to_csv(path_text+'/question_tags.txt', encoding='utf-8', index = False)\n",
    "\n",
    "    # Process with user_interest\n",
    "    ut = m['user_interest'].astype(str)\n",
    "    ut.to_csv(path_text+'/user_interest.txt', encoding='utf-8', index = False)\n",
    "\n",
    "    # Proecess with user_specialty\n",
    "    us = m['user_specialty'].astype(str)\n",
    "    us.to_csv(path_text+'/user_specialty.txt', encoding='utf-8', index = False)"
   ]
  },
  {
   "cell_type": "code",
   "execution_count": 3,
   "metadata": {
    "collapsed": false
   },
   "outputs": [],
   "source": [
    "from itertools import izip\n",
    "\n",
    "def unique(a):\n",
    "    return list(set(a))\n",
    "\n",
    "def intersect(a,b):\n",
    "    return list(set(a)&set(b))\n",
    "\n",
    "def union(a,b):\n",
    "    return list(set(a) | set(b))\n",
    "\n",
    "def write_overlap_file(fout, overlap_list, count):\n",
    "    num_overlap = len(overlap_list) \n",
    "    fout.write(str(count)+',')\n",
    "    fout.write(' '.join(overlap_list))\n",
    "    fout.write(','+str(num_overlap)+'\\n')   \n",
    "\n",
    "    \n",
    "# Run this code for best_answer_features\n",
    "# PATH_IN = 'DIVIDE/match/best_answer_features/OVER_LAP/'\n",
    "# PATH_OUT = 'DIVIDE/match/best_answer_features/OVER_LAP/'\n",
    "# PATH_FEATURES = 'DIVIDE/match/best_answer_features/'\n",
    "\n",
    "def extract_overlap_features(PATH_TEXT, PATH_OVERLAP, PATH_NORMAL) :\n",
    "    \n",
    "    f14 = open(PATH_NORMAL + 'f14.txt', 'w')\n",
    "    f15 = open(PATH_NORMAL + 'f15.txt', 'w')\n",
    "    f16 = open(PATH_NORMAL + 'f16.txt', 'w')\n",
    "    f17 = open(PATH_NORMAL + 'f17.txt', 'w')\n",
    "    f18 = open(PATH_NORMAL + 'f18.txt', 'w')\n",
    "    f19 = open(PATH_NORMAL + 'f19.txt', 'w')\n",
    "    \n",
    "    with open(PATH_TEXT + 'answer_content.txt' , 'r') as fin_1, \\\n",
    "        open(PATH_TEXT + 'question_content.txt', 'r') as fin_2, \\\n",
    "        open(PATH_TEXT + 'question_tags.txt' , 'r') as fin_3, \\\n",
    "        open(PATH_TEXT + 'user_interest.txt' , 'r') as fin_4, \\\n",
    "        open(PATH_OVERLAP + 'answerContent_questionContent.txt', 'w') as fout_1, \\\n",
    "        open(PATH_OVERLAP + 'answerContent_questionTags.txt', 'w') as fout_2, \\\n",
    "        open(PATH_OVERLAP + 'answerContent_userInterest.txt', 'w') as fout_3, \\\n",
    "        open(PATH_OVERLAP + 'questionContent_questionTags.txt', 'w') as fout_4, \\\n",
    "        open(PATH_OVERLAP + 'questionContent_userInterest.txt', 'w') as fout_5, \\\n",
    "        open(PATH_OVERLAP + 'questionTags_userInterest.txt', 'w') as fout_7 : \n",
    "            \n",
    "            count = 0\n",
    "\n",
    "            for line1, line2, line3, line4 in izip(fin_1, fin_2, fin_3, fin_4 ):\n",
    "                word_list1 = line1.strip().split(' ')\n",
    "                word_list2 = line2.strip().split(' ')\n",
    "                word_list3 = line3.strip().split(' ')\n",
    "                word_list4 = line4.strip().split(' ')\n",
    "                \n",
    "                over_lap1 = intersect(word_list1, word_list2)\n",
    "                over_lap2 = intersect(word_list1, word_list3)\n",
    "                over_lap3 = intersect(word_list1, word_list4)\n",
    "                over_lap4 = intersect(word_list2, word_list3)\n",
    "                over_lap5 = intersect(word_list2, word_list4)\n",
    "                # over_lap6 = intersect(word_list2, word_list5)\n",
    "                over_lap7 = intersect(word_list3, word_list4)\n",
    "                # over_lap8 = intersect(word_list3, word_list5)\n",
    "                \n",
    "                # '''\n",
    "                write_overlap_file(fout_1, over_lap1, count)\n",
    "                write_overlap_file(fout_2, over_lap2, count)\n",
    "                write_overlap_file(fout_3, over_lap3, count)\n",
    "                write_overlap_file(fout_4, over_lap4, count)\n",
    "                write_overlap_file(fout_5, over_lap5, count)\n",
    "                # write_overlap_file(fout_6, over_lap6, count)\n",
    "                write_overlap_file(fout_7, over_lap7, count)\n",
    "                # write_overlap_file(fout_8, over_lap8, count)\n",
    "               \n",
    "                f14.write(str(count) + ',' + str( len(over_lap1) ) + '\\n')\n",
    "                f15.write(str(count) + ',' + str( len(over_lap2) ) + '\\n')\n",
    "                f16.write(str(count) + ',' + str( len(over_lap3) ) + '\\n')\n",
    "                f17.write(str(count) + ',' + str( len(over_lap4) ) + '\\n')\n",
    "                f18.write(str(count) + ',' + str( len(over_lap5) ) + '\\n')\n",
    "                f19.write(str(count) + ',' + str( len(over_lap7) ) + '\\n')\n",
    "                \n",
    "                count = count + 1\n",
    "    \n",
    "    f14.close()\n",
    "    f15.close()\n",
    "    f16.close()\n",
    "    f17.close()\n",
    "    f18.close()\n",
    "    f19.close()"
   ]
  },
  {
   "cell_type": "code",
   "execution_count": 4,
   "metadata": {
    "collapsed": false
   },
   "outputs": [],
   "source": [
    "def lda_source(PATH_TEXT, PATH_LDA) :\n",
    "    \n",
    "    with open(PATH_TEXT + 'answer_content.txt' , 'r') as fin_1, \\\n",
    "        open(PATH_TEXT + 'question_content.txt', 'r') as fin_2, \\\n",
    "        open(PATH_TEXT + 'user_interest.txt' , 'r') as fin_3, \\\n",
    "        open(PATH_TEXT + 'question_tags.txt' , 'r') as fin_4, \\\n",
    "        open(PATH_LDA + 'TEST_LDA_SOURCE.txt', 'w') as fout :\n",
    "            for line1, line2, line3, line4 in izip(fin_1, fin_2, fin_3, fin_4) :\n",
    "                #line1 = f1.readline()\n",
    "                info1 = line1.strip()\n",
    "                # print info1\n",
    "                fout.write(info1)\n",
    "\n",
    "                #line2 = f2.readline()\n",
    "                info2 = line2.strip()\n",
    "                # print info2\n",
    "                fout.write(' '+info2)\n",
    "\n",
    "                info3 = line3.strip()\n",
    "                # print info3\n",
    "                fout.write(' '+info3)\n",
    "\n",
    "                info4 = line4.strip()\n",
    "                # print info4\n",
    "                fout.write(' '+info4 + '\\n')"
   ]
  },
  {
   "cell_type": "code",
   "execution_count": 5,
   "metadata": {
    "collapsed": true
   },
   "outputs": [],
   "source": [
    "def normalize( PATH_NORMAL ) :\n",
    "    # feature1 : length of the answer_content \n",
    "    f1 = pd.read_csv(PATH_NORMAL + 'f1.txt', names = ['index','len_answer_content'])\n",
    "\n",
    "    # feature2 : length of the user_introduction\n",
    "    f2 = pd.read_csv(PATH_NORMAL + 'f2.txt', names = ['index','len_user_intro'])\n",
    "    m = pd.merge(f1, f2, how='outer')\n",
    "    #print m\n",
    "\n",
    "    # feature3 : length of the question_content\n",
    "    f3 = pd.read_csv(PATH_NORMAL + 'f3.txt', names = ['index', 'len_question_content'])\n",
    "    m = pd.merge(m, f3, how='outer')\n",
    "\n",
    "    # feature4: user's experience years\n",
    "    f4 = pd.read_csv(PATH_NORMAL + 'f4.txt', names = ['index','user_exp'])\n",
    "    m = pd.merge(m, f4, how='outer')\n",
    "    #print m\n",
    "\n",
    "    # feature5 : length of the user's edu\n",
    "    f5 = pd.read_csv(PATH_NORMAL + 'f5.txt', names = ['index','len_user_edu'])\n",
    "    m = pd.merge(m, f5, how='outer')\n",
    "\n",
    "    # feature6 : number of topics of user's interest\n",
    "    f6 = pd.read_csv(PATH_NORMAL + 'f6.txt', names = ['index','num_user_interst'])\n",
    "    m = pd.merge(m, f6, how='outer')\n",
    "\n",
    "    # feature7 : number of the people user followed\n",
    "    f7 = pd.read_csv(PATH_NORMAL + 'f7.txt', names = ['index','num_user_followed'])\n",
    "    m = pd.merge(m, f7, how='outer')\n",
    "\n",
    "    # feature8 : number of the question tags\n",
    "    f8 = pd.read_csv(PATH_NORMAL + 'f8.txt', names = ['index', 'num_question_tags'])\n",
    "    m = pd.merge(m, f8, how='outer')\n",
    "\n",
    "    # feature9 : number of saved lives\n",
    "    f9 = pd.read_csv(PATH_NORMAL + 'f9.txt', names = ['index','num_user_saved'])\n",
    "    m = pd.merge(m, f9, how='outer')\n",
    "\n",
    "    # feature10 : number of recieved thanks\n",
    "    f10 = pd.read_csv(PATH_NORMAL + 'f10.txt', names = ['index','num_user_thanks'])\n",
    "    m = pd.merge(m, f10, how='outer')\n",
    "\n",
    "    # feature11 : number of agrees\n",
    "    f11 = pd.read_csv(PATH_NORMAL + 'f11.txt', names = ['index','num_user_agrees'])\n",
    "    m = pd.merge(m, f11, how='outer')\n",
    "\n",
    "    # feature12 : nuber of helped people\n",
    "    f12 = pd.read_csv(PATH_NORMAL + 'f12.txt', names = ['index','num_user_helped'])\n",
    "    m = pd.merge(m, f12, how='outer')\n",
    "\n",
    "    # feature13 : number of doctor recommend\n",
    "    f13 = pd.read_csv(PATH_NORMAL + 'f13.txt', names = ['index','num_user_recommend'])\n",
    "    m = pd.merge(m, f13, how='outer')\n",
    "\n",
    "    #####################################################################\n",
    "    \n",
    "    # feature14 : answerContent & questionContent overlap \n",
    "    f14 = pd.read_csv(PATH_NORMAL + 'f14.txt', names = ['index', 'ac_qc_overlap'] )\n",
    "    m = pd.merge(m, f14, how = 'outer')\n",
    "    \n",
    "    # feature15 : answerContent & questionTags overlap\n",
    "    f15 = pd.read_csv(PATH_NORMAL + 'f15.txt', names = ['index', 'ac_qt_overlap'])\n",
    "    m = pd.merge(m, f15, how = 'outer')\n",
    "\n",
    "    # feature16 : answerContent & userInterest overlap\n",
    "    f16 = pd.read_csv(PATH_NORMAL + 'f16.txt', names = ['index', 'ac_ui_overlap'])\n",
    "    m = pd.merge(m, f16, how = 'outer')\n",
    "\n",
    "    # feature17 : questionContent & questionTags overlap\n",
    "    f17 = pd.read_csv(PATH_NORMAL + 'f17.txt', names = ['index', 'qc_qt_overlap'])\n",
    "    m = pd.merge(m, f17, how = 'outer')\n",
    "\n",
    "    # feature18 : questionContent & userInterest overlap\n",
    "    f18 = pd.read_csv(PATH_NORMAL + 'f18.txt', names = ['index', 'qc_ui_overlap'])\n",
    "    m = pd.merge(m, f18, how = 'outer')\n",
    "    \n",
    "    # feature19 : questionTags & userInterest overlap\n",
    "    f19 = pd.read_csv(PATH_NORMAL + 'f19.txt', names = ['index', 'qt_ui_overlap'])\n",
    "    m = pd.merge(m, f19, how = 'outer')\n",
    "    \n",
    "    #######################################################################\n",
    "    Index = m.ix[:,0] \n",
    "    M = m.ix[:,1:]\n",
    "\n",
    "    # M = (M - M.min()) / (M.max() - M.min())\n",
    "    M = (M - M.mean()) / M.std()\n",
    "    M['index'] = Index\n",
    "\n",
    "    # question_id :\n",
    "    # qid = pd.read_csv(PATH_IN + 'qid.txt', names = ['index', 'question_id'])\n",
    "    # M = pd.merge(M, qid, how = 'outer')\n",
    "\n",
    "    # number_of_vote\n",
    "    # vote = pd.read_csv(PATH_IN + 'vote.txt', names = ['index', 'vote'])\n",
    "    # M = pd.merge(M, vote, how = 'outer')\n",
    "\n",
    "    M = M.drop('index', axis = 1)\n",
    "    M = M.fillna(0)\n",
    "    # print M\n",
    "\n",
    "    M.to_csv(PATH_NORMAL + 'Normal_Features.txt',  index = False)"
   ]
  },
  {
   "cell_type": "markdown",
   "metadata": {
    "collapsed": true
   },
   "source": [
    "# Format S2V & Topic Features"
   ]
  },
  {
   "cell_type": "code",
   "execution_count": 6,
   "metadata": {
    "collapsed": true
   },
   "outputs": [],
   "source": [
    "from shutil import copyfile"
   ]
  },
  {
   "cell_type": "code",
   "execution_count": 7,
   "metadata": {
    "collapsed": false
   },
   "outputs": [],
   "source": [
    "def remove_first_line(file_name) :\n",
    "    with open(file_name, 'r') as fin:\n",
    "        data = fin.read().splitlines(True)\n",
    "    with open(file_name, 'w') as fout:\n",
    "        fout.writelines(data[1:])"
   ]
  },
  {
   "cell_type": "code",
   "execution_count": 8,
   "metadata": {
    "collapsed": false
   },
   "outputs": [],
   "source": [
    "# USE S2V model to generate S2V features\n",
    "def generate_s2v_features() :\n",
    "    copyfile('./LDA/TEST_LDA_SOURCE.txt', './S2V/TEST_S2V_SOURCE.txt')\n",
    "    %run /Users/gaozhipeng/ML/RANK_TEST/TEST/S2V/demo.py"
   ]
  },
  {
   "cell_type": "code",
   "execution_count": 9,
   "metadata": {
    "collapsed": false
   },
   "outputs": [],
   "source": [
    "# format s2v features :\n",
    "def format_s2v_featues(PATH_LDA, PATH_S2V) :\n",
    "    s2v_list = []\n",
    "    for i in range(50) :\n",
    "        col_name = 's2v_' + str(i) \n",
    "        s2v_list.append(col_name)\n",
    "    # !!! before this , you should remove the first row of the Test_Source.txt.vec\n",
    "    remove_first_line(PATH_S2V + 'TEST_S2V_SOURCE.txt.vec')\n",
    "    total_s2v = pd.read_table(PATH_S2V + 'TEST_S2V_SOURCE.txt.vec', sep = ' ', names = s2v_list)\n",
    "    # test_s2v !!! very important : Normalization\n",
    "    total_s2v = (total_s2v - total_s2v.mean()) / total_s2v.std()\n",
    "    # total_s2v = (total_s2v - total_s2v.min()) / (total_s2v.max() - total_s2v.min())\n",
    "    # total_s2v # 11292 rows × 50 columns\n",
    "    total_s2v.to_csv(PATH_S2V + 'S2V_Features.csv', encoding='utf-8', index = False)"
   ]
  },
  {
   "cell_type": "code",
   "execution_count": 10,
   "metadata": {
    "collapsed": false
   },
   "outputs": [],
   "source": [
    "# Use Topic_Model to generate LDA Features \n",
    "def generate_topic_features():\n",
    "    %run /Users/gaozhipeng/ML/RANK_TEST/TEST/LDA/Generate_Topic_Features.py"
   ]
  },
  {
   "cell_type": "code",
   "execution_count": 11,
   "metadata": {
    "collapsed": true
   },
   "outputs": [],
   "source": [
    "# format the topic features\n",
    "def format_topic_features(PATH_LDA) :\n",
    "    \n",
    "    topic_list = []\n",
    "    for i in range(50) :\n",
    "        col_name = 'topic_' + str(i) \n",
    "        topic_list.append(col_name)\n",
    "\n",
    "    total_topic = pd.read_csv(PATH_LDA + 'Raw_Topic_Features.csv', names = topic_list, index_col=False)\n",
    "    # total_topic # 29385 rows × 50 columns\n",
    "    # test_topic !!! very important : Normalization by row\n",
    "    total_topic = total_topic.sub( total_topic.min(axis=1), axis=0 ) \n",
    "    total_topic = total_topic.div( total_topic.max(axis=1) - total_topic.min(axis=1), axis=0 )\n",
    "    # Normalize by column\n",
    "    total_topic = (total_topic - total_topic.mean()) / total_topic.std()\n",
    "    total_topic.to_csv(PATH_LDA + 'Topic_Features.csv', encoding='utf-8', index=False)\n",
    "    "
   ]
  },
  {
   "cell_type": "code",
   "execution_count": 12,
   "metadata": {
    "collapsed": true
   },
   "outputs": [],
   "source": [
    "def merge_features(PATH_NORMAL, PATH_S2V, PATH_LDA, PATH_FINAL_TEST_FEATURES, FILE) :\n",
    "    \n",
    "    Total_Normal = pd.read_csv(PATH_NORMAL + 'Normal_Features.txt')\n",
    "    Total_S2V = pd.read_csv(PATH_S2V + 'S2V_Features.csv')\n",
    "    Total_Topic = pd.read_csv(PATH_LDA + 'Topic_Features.csv')\n",
    "    \n",
    "    Total_Normal_S2V = pd.merge(Total_Normal, Total_S2V, left_index=True, right_index=True)\n",
    "    Total_Final = pd.merge(Total_Normal_S2V, Total_Topic, left_index=True, right_index=True)\n",
    "    \n",
    "    Total_Final.to_csv(PATH_FINAL_TEST_FEATURES + FILE, encoding='utf-8', index=False)"
   ]
  },
  {
   "cell_type": "code",
   "execution_count": 21,
   "metadata": {
    "collapsed": false
   },
   "outputs": [],
   "source": [
    "# LEVEL = './1000x5/'\n",
    "# LEVEL = './1000x6/'\n",
    "# LEVEL = './1000x7/'\n",
    "# LEVEL = './1000x8/'\n",
    "# LEVEL = './1000x9/'\n",
    "LEVEL = './1000x10/'\n",
    "\n",
    "# PATH_IN = LEVEL + 'Final_Test_Set/'\n",
    "PATH_NORMAL = './NORMAL/'\n",
    "PATH_TEXT = './TEXT/'\n",
    "PATH_OVERLAP = './OVERLAP/'\n",
    "PATH_LDA = './LDA/'\n",
    "PATH_S2V = './S2V/'\n",
    "PATH_FINAL_TEST_SET = LEVEL + 'Final_Test_Set/'\n",
    "PATH_FINAL_TEST_FEATURES = LEVEL + 'Final_Test_Features/'"
   ]
  },
  {
   "cell_type": "code",
   "execution_count": 22,
   "metadata": {
    "collapsed": true
   },
   "outputs": [
    {
     "data": {
      "text/html": [
       "<pre>Finished parsing file /Users/gaozhipeng/ML/RANK_TEST/TEST/LDA/TEST_LDA_SOURCE.txt</pre>"
      ],
      "text/plain": [
       "Finished parsing file /Users/gaozhipeng/ML/RANK_TEST/TEST/LDA/TEST_LDA_SOURCE.txt"
      ]
     },
     "metadata": {},
     "output_type": "display_data"
    },
    {
     "data": {
      "text/html": [
       "<pre>Parsing completed. Parsed 100 lines in 0.031945 secs.</pre>"
      ],
      "text/plain": [
       "Parsing completed. Parsed 100 lines in 0.031945 secs."
      ]
     },
     "metadata": {},
     "output_type": "display_data"
    },
    {
     "name": "stdout",
     "output_type": "stream",
     "text": [
      "./1000x10/Final_Test_Set/Final_Test_00.csv\n",
      "------------------------------------------------------"
     ]
    },
    {
     "data": {
      "text/html": [
       "<pre>Finished parsing file /Users/gaozhipeng/ML/RANK_TEST/TEST/LDA/TEST_LDA_SOURCE.txt</pre>"
      ],
      "text/plain": [
       "Finished parsing file /Users/gaozhipeng/ML/RANK_TEST/TEST/LDA/TEST_LDA_SOURCE.txt"
      ]
     },
     "metadata": {},
     "output_type": "display_data"
    },
    {
     "data": {
      "text/html": [
       "<pre>Parsing completed. Parsed 1354 lines in 0.019159 secs.</pre>"
      ],
      "text/plain": [
       "Parsing completed. Parsed 1354 lines in 0.019159 secs."
      ]
     },
     "metadata": {},
     "output_type": "display_data"
    },
    {
     "name": "stdout",
     "output_type": "stream",
     "text": [
      "\n",
      "Inferred types from first line of file as \n",
      "column_type_hints=[str]\n",
      "If parsing fails due to incorrect types, you can correct\n",
      "the inferred type list above and pass it to read_csv in\n",
      "the column_type_hints argument\n",
      "------------------------------------------------------\n",
      "./1000x10/Final_Test_Set/Final_Test_01.csv"
     ]
    },
    {
     "data": {
      "text/html": [
       "<pre>Finished parsing file /Users/gaozhipeng/ML/RANK_TEST/TEST/LDA/TEST_LDA_SOURCE.txt</pre>"
      ],
      "text/plain": [
       "Finished parsing file /Users/gaozhipeng/ML/RANK_TEST/TEST/LDA/TEST_LDA_SOURCE.txt"
      ]
     },
     "metadata": {},
     "output_type": "display_data"
    },
    {
     "data": {
      "text/html": [
       "<pre>Parsing completed. Parsed 100 lines in 0.033552 secs.</pre>"
      ],
      "text/plain": [
       "Parsing completed. Parsed 100 lines in 0.033552 secs."
      ]
     },
     "metadata": {},
     "output_type": "display_data"
    },
    {
     "name": "stdout",
     "output_type": "stream",
     "text": [
      "\n",
      "------------------------------------------------------"
     ]
    },
    {
     "data": {
      "text/html": [
       "<pre>Finished parsing file /Users/gaozhipeng/ML/RANK_TEST/TEST/LDA/TEST_LDA_SOURCE.txt</pre>"
      ],
      "text/plain": [
       "Finished parsing file /Users/gaozhipeng/ML/RANK_TEST/TEST/LDA/TEST_LDA_SOURCE.txt"
      ]
     },
     "metadata": {},
     "output_type": "display_data"
    },
    {
     "data": {
      "text/html": [
       "<pre>Parsing completed. Parsed 1339 lines in 0.021275 secs.</pre>"
      ],
      "text/plain": [
       "Parsing completed. Parsed 1339 lines in 0.021275 secs."
      ]
     },
     "metadata": {},
     "output_type": "display_data"
    },
    {
     "name": "stdout",
     "output_type": "stream",
     "text": [
      "\n",
      "Inferred types from first line of file as \n",
      "column_type_hints=[str]\n",
      "If parsing fails due to incorrect types, you can correct\n",
      "the inferred type list above and pass it to read_csv in\n",
      "the column_type_hints argument\n",
      "------------------------------------------------------\n",
      "./1000x10/Final_Test_Set/Final_Test_02.csv"
     ]
    },
    {
     "data": {
      "text/html": [
       "<pre>Finished parsing file /Users/gaozhipeng/ML/RANK_TEST/TEST/LDA/TEST_LDA_SOURCE.txt</pre>"
      ],
      "text/plain": [
       "Finished parsing file /Users/gaozhipeng/ML/RANK_TEST/TEST/LDA/TEST_LDA_SOURCE.txt"
      ]
     },
     "metadata": {},
     "output_type": "display_data"
    },
    {
     "data": {
      "text/html": [
       "<pre>Parsing completed. Parsed 100 lines in 0.032759 secs.</pre>"
      ],
      "text/plain": [
       "Parsing completed. Parsed 100 lines in 0.032759 secs."
      ]
     },
     "metadata": {},
     "output_type": "display_data"
    },
    {
     "name": "stdout",
     "output_type": "stream",
     "text": [
      "\n",
      "------------------------------------------------------"
     ]
    },
    {
     "data": {
      "text/html": [
       "<pre>Finished parsing file /Users/gaozhipeng/ML/RANK_TEST/TEST/LDA/TEST_LDA_SOURCE.txt</pre>"
      ],
      "text/plain": [
       "Finished parsing file /Users/gaozhipeng/ML/RANK_TEST/TEST/LDA/TEST_LDA_SOURCE.txt"
      ]
     },
     "metadata": {},
     "output_type": "display_data"
    },
    {
     "data": {
      "text/html": [
       "<pre>Parsing completed. Parsed 1301 lines in 0.022174 secs.</pre>"
      ],
      "text/plain": [
       "Parsing completed. Parsed 1301 lines in 0.022174 secs."
      ]
     },
     "metadata": {},
     "output_type": "display_data"
    },
    {
     "name": "stdout",
     "output_type": "stream",
     "text": [
      "\n",
      "Inferred types from first line of file as \n",
      "column_type_hints=[str]\n",
      "If parsing fails due to incorrect types, you can correct\n",
      "the inferred type list above and pass it to read_csv in\n",
      "the column_type_hints argument\n",
      "------------------------------------------------------\n",
      "./1000x10/Final_Test_Set/Final_Test_03.csv"
     ]
    },
    {
     "data": {
      "text/html": [
       "<pre>Finished parsing file /Users/gaozhipeng/ML/RANK_TEST/TEST/LDA/TEST_LDA_SOURCE.txt</pre>"
      ],
      "text/plain": [
       "Finished parsing file /Users/gaozhipeng/ML/RANK_TEST/TEST/LDA/TEST_LDA_SOURCE.txt"
      ]
     },
     "metadata": {},
     "output_type": "display_data"
    },
    {
     "data": {
      "text/html": [
       "<pre>Parsing completed. Parsed 100 lines in 0.031713 secs.</pre>"
      ],
      "text/plain": [
       "Parsing completed. Parsed 100 lines in 0.031713 secs."
      ]
     },
     "metadata": {},
     "output_type": "display_data"
    },
    {
     "name": "stdout",
     "output_type": "stream",
     "text": [
      "\n",
      "------------------------------------------------------"
     ]
    },
    {
     "data": {
      "text/html": [
       "<pre>Finished parsing file /Users/gaozhipeng/ML/RANK_TEST/TEST/LDA/TEST_LDA_SOURCE.txt</pre>"
      ],
      "text/plain": [
       "Finished parsing file /Users/gaozhipeng/ML/RANK_TEST/TEST/LDA/TEST_LDA_SOURCE.txt"
      ]
     },
     "metadata": {},
     "output_type": "display_data"
    },
    {
     "data": {
      "text/html": [
       "<pre>Parsing completed. Parsed 1343 lines in 0.02266 secs.</pre>"
      ],
      "text/plain": [
       "Parsing completed. Parsed 1343 lines in 0.02266 secs."
      ]
     },
     "metadata": {},
     "output_type": "display_data"
    },
    {
     "name": "stdout",
     "output_type": "stream",
     "text": [
      "\n",
      "Inferred types from first line of file as \n",
      "column_type_hints=[str]\n",
      "If parsing fails due to incorrect types, you can correct\n",
      "the inferred type list above and pass it to read_csv in\n",
      "the column_type_hints argument\n",
      "------------------------------------------------------\n",
      "./1000x10/Final_Test_Set/Final_Test_04.csv"
     ]
    },
    {
     "data": {
      "text/html": [
       "<pre>Finished parsing file /Users/gaozhipeng/ML/RANK_TEST/TEST/LDA/TEST_LDA_SOURCE.txt</pre>"
      ],
      "text/plain": [
       "Finished parsing file /Users/gaozhipeng/ML/RANK_TEST/TEST/LDA/TEST_LDA_SOURCE.txt"
      ]
     },
     "metadata": {},
     "output_type": "display_data"
    },
    {
     "data": {
      "text/html": [
       "<pre>Parsing completed. Parsed 100 lines in 0.032536 secs.</pre>"
      ],
      "text/plain": [
       "Parsing completed. Parsed 100 lines in 0.032536 secs."
      ]
     },
     "metadata": {},
     "output_type": "display_data"
    },
    {
     "name": "stdout",
     "output_type": "stream",
     "text": [
      "\n",
      "------------------------------------------------------"
     ]
    },
    {
     "data": {
      "text/html": [
       "<pre>Finished parsing file /Users/gaozhipeng/ML/RANK_TEST/TEST/LDA/TEST_LDA_SOURCE.txt</pre>"
      ],
      "text/plain": [
       "Finished parsing file /Users/gaozhipeng/ML/RANK_TEST/TEST/LDA/TEST_LDA_SOURCE.txt"
      ]
     },
     "metadata": {},
     "output_type": "display_data"
    },
    {
     "data": {
      "text/html": [
       "<pre>Parsing completed. Parsed 1391 lines in 0.023743 secs.</pre>"
      ],
      "text/plain": [
       "Parsing completed. Parsed 1391 lines in 0.023743 secs."
      ]
     },
     "metadata": {},
     "output_type": "display_data"
    },
    {
     "name": "stdout",
     "output_type": "stream",
     "text": [
      "\n",
      "Inferred types from first line of file as \n",
      "column_type_hints=[str]\n",
      "If parsing fails due to incorrect types, you can correct\n",
      "the inferred type list above and pass it to read_csv in\n",
      "the column_type_hints argument\n",
      "------------------------------------------------------\n",
      "./1000x10/Final_Test_Set/Final_Test_05.csv"
     ]
    },
    {
     "data": {
      "text/html": [
       "<pre>Finished parsing file /Users/gaozhipeng/ML/RANK_TEST/TEST/LDA/TEST_LDA_SOURCE.txt</pre>"
      ],
      "text/plain": [
       "Finished parsing file /Users/gaozhipeng/ML/RANK_TEST/TEST/LDA/TEST_LDA_SOURCE.txt"
      ]
     },
     "metadata": {},
     "output_type": "display_data"
    },
    {
     "data": {
      "text/html": [
       "<pre>Parsing completed. Parsed 100 lines in 0.035059 secs.</pre>"
      ],
      "text/plain": [
       "Parsing completed. Parsed 100 lines in 0.035059 secs."
      ]
     },
     "metadata": {},
     "output_type": "display_data"
    },
    {
     "name": "stdout",
     "output_type": "stream",
     "text": [
      "\n",
      "------------------------------------------------------"
     ]
    },
    {
     "data": {
      "text/html": [
       "<pre>Finished parsing file /Users/gaozhipeng/ML/RANK_TEST/TEST/LDA/TEST_LDA_SOURCE.txt</pre>"
      ],
      "text/plain": [
       "Finished parsing file /Users/gaozhipeng/ML/RANK_TEST/TEST/LDA/TEST_LDA_SOURCE.txt"
      ]
     },
     "metadata": {},
     "output_type": "display_data"
    },
    {
     "data": {
      "text/html": [
       "<pre>Parsing completed. Parsed 1406 lines in 0.024419 secs.</pre>"
      ],
      "text/plain": [
       "Parsing completed. Parsed 1406 lines in 0.024419 secs."
      ]
     },
     "metadata": {},
     "output_type": "display_data"
    },
    {
     "name": "stdout",
     "output_type": "stream",
     "text": [
      "\n",
      "Inferred types from first line of file as \n",
      "column_type_hints=[str]\n",
      "If parsing fails due to incorrect types, you can correct\n",
      "the inferred type list above and pass it to read_csv in\n",
      "the column_type_hints argument\n",
      "------------------------------------------------------\n",
      "./1000x10/Final_Test_Set/Final_Test_06.csv"
     ]
    },
    {
     "data": {
      "text/html": [
       "<pre>Finished parsing file /Users/gaozhipeng/ML/RANK_TEST/TEST/LDA/TEST_LDA_SOURCE.txt</pre>"
      ],
      "text/plain": [
       "Finished parsing file /Users/gaozhipeng/ML/RANK_TEST/TEST/LDA/TEST_LDA_SOURCE.txt"
      ]
     },
     "metadata": {},
     "output_type": "display_data"
    },
    {
     "data": {
      "text/html": [
       "<pre>Parsing completed. Parsed 100 lines in 0.032417 secs.</pre>"
      ],
      "text/plain": [
       "Parsing completed. Parsed 100 lines in 0.032417 secs."
      ]
     },
     "metadata": {},
     "output_type": "display_data"
    },
    {
     "name": "stdout",
     "output_type": "stream",
     "text": [
      "\n",
      "------------------------------------------------------"
     ]
    },
    {
     "data": {
      "text/html": [
       "<pre>Finished parsing file /Users/gaozhipeng/ML/RANK_TEST/TEST/LDA/TEST_LDA_SOURCE.txt</pre>"
      ],
      "text/plain": [
       "Finished parsing file /Users/gaozhipeng/ML/RANK_TEST/TEST/LDA/TEST_LDA_SOURCE.txt"
      ]
     },
     "metadata": {},
     "output_type": "display_data"
    },
    {
     "data": {
      "text/html": [
       "<pre>Parsing completed. Parsed 1385 lines in 0.022251 secs.</pre>"
      ],
      "text/plain": [
       "Parsing completed. Parsed 1385 lines in 0.022251 secs."
      ]
     },
     "metadata": {},
     "output_type": "display_data"
    },
    {
     "name": "stdout",
     "output_type": "stream",
     "text": [
      "\n",
      "Inferred types from first line of file as \n",
      "column_type_hints=[str]\n",
      "If parsing fails due to incorrect types, you can correct\n",
      "the inferred type list above and pass it to read_csv in\n",
      "the column_type_hints argument\n",
      "------------------------------------------------------\n",
      "./1000x10/Final_Test_Set/Final_Test_07.csv"
     ]
    },
    {
     "data": {
      "text/html": [
       "<pre>Finished parsing file /Users/gaozhipeng/ML/RANK_TEST/TEST/LDA/TEST_LDA_SOURCE.txt</pre>"
      ],
      "text/plain": [
       "Finished parsing file /Users/gaozhipeng/ML/RANK_TEST/TEST/LDA/TEST_LDA_SOURCE.txt"
      ]
     },
     "metadata": {},
     "output_type": "display_data"
    },
    {
     "data": {
      "text/html": [
       "<pre>Parsing completed. Parsed 100 lines in 0.034686 secs.</pre>"
      ],
      "text/plain": [
       "Parsing completed. Parsed 100 lines in 0.034686 secs."
      ]
     },
     "metadata": {},
     "output_type": "display_data"
    },
    {
     "name": "stdout",
     "output_type": "stream",
     "text": [
      "\n",
      "------------------------------------------------------"
     ]
    },
    {
     "data": {
      "text/html": [
       "<pre>Finished parsing file /Users/gaozhipeng/ML/RANK_TEST/TEST/LDA/TEST_LDA_SOURCE.txt</pre>"
      ],
      "text/plain": [
       "Finished parsing file /Users/gaozhipeng/ML/RANK_TEST/TEST/LDA/TEST_LDA_SOURCE.txt"
      ]
     },
     "metadata": {},
     "output_type": "display_data"
    },
    {
     "data": {
      "text/html": [
       "<pre>Parsing completed. Parsed 1368 lines in 0.022401 secs.</pre>"
      ],
      "text/plain": [
       "Parsing completed. Parsed 1368 lines in 0.022401 secs."
      ]
     },
     "metadata": {},
     "output_type": "display_data"
    },
    {
     "name": "stdout",
     "output_type": "stream",
     "text": [
      "\n",
      "Inferred types from first line of file as \n",
      "column_type_hints=[str]\n",
      "If parsing fails due to incorrect types, you can correct\n",
      "the inferred type list above and pass it to read_csv in\n",
      "the column_type_hints argument\n",
      "------------------------------------------------------\n",
      "./1000x10/Final_Test_Set/Final_Test_08.csv"
     ]
    },
    {
     "data": {
      "text/html": [
       "<pre>Finished parsing file /Users/gaozhipeng/ML/RANK_TEST/TEST/LDA/TEST_LDA_SOURCE.txt</pre>"
      ],
      "text/plain": [
       "Finished parsing file /Users/gaozhipeng/ML/RANK_TEST/TEST/LDA/TEST_LDA_SOURCE.txt"
      ]
     },
     "metadata": {},
     "output_type": "display_data"
    },
    {
     "data": {
      "text/html": [
       "<pre>Parsing completed. Parsed 100 lines in 0.03084 secs.</pre>"
      ],
      "text/plain": [
       "Parsing completed. Parsed 100 lines in 0.03084 secs."
      ]
     },
     "metadata": {},
     "output_type": "display_data"
    },
    {
     "name": "stdout",
     "output_type": "stream",
     "text": [
      "\n",
      "------------------------------------------------------"
     ]
    },
    {
     "data": {
      "text/html": [
       "<pre>Finished parsing file /Users/gaozhipeng/ML/RANK_TEST/TEST/LDA/TEST_LDA_SOURCE.txt</pre>"
      ],
      "text/plain": [
       "Finished parsing file /Users/gaozhipeng/ML/RANK_TEST/TEST/LDA/TEST_LDA_SOURCE.txt"
      ]
     },
     "metadata": {},
     "output_type": "display_data"
    },
    {
     "data": {
      "text/html": [
       "<pre>Parsing completed. Parsed 1366 lines in 0.023129 secs.</pre>"
      ],
      "text/plain": [
       "Parsing completed. Parsed 1366 lines in 0.023129 secs."
      ]
     },
     "metadata": {},
     "output_type": "display_data"
    },
    {
     "name": "stdout",
     "output_type": "stream",
     "text": [
      "\n",
      "Inferred types from first line of file as \n",
      "column_type_hints=[str]\n",
      "If parsing fails due to incorrect types, you can correct\n",
      "the inferred type list above and pass it to read_csv in\n",
      "the column_type_hints argument\n",
      "------------------------------------------------------\n",
      "./1000x10/Final_Test_Set/Final_Test_09.csv"
     ]
    },
    {
     "data": {
      "text/html": [
       "<pre>Finished parsing file /Users/gaozhipeng/ML/RANK_TEST/TEST/LDA/TEST_LDA_SOURCE.txt</pre>"
      ],
      "text/plain": [
       "Finished parsing file /Users/gaozhipeng/ML/RANK_TEST/TEST/LDA/TEST_LDA_SOURCE.txt"
      ]
     },
     "metadata": {},
     "output_type": "display_data"
    },
    {
     "data": {
      "text/html": [
       "<pre>Parsing completed. Parsed 100 lines in 0.032828 secs.</pre>"
      ],
      "text/plain": [
       "Parsing completed. Parsed 100 lines in 0.032828 secs."
      ]
     },
     "metadata": {},
     "output_type": "display_data"
    },
    {
     "name": "stdout",
     "output_type": "stream",
     "text": [
      "\n",
      "------------------------------------------------------"
     ]
    },
    {
     "data": {
      "text/html": [
       "<pre>Finished parsing file /Users/gaozhipeng/ML/RANK_TEST/TEST/LDA/TEST_LDA_SOURCE.txt</pre>"
      ],
      "text/plain": [
       "Finished parsing file /Users/gaozhipeng/ML/RANK_TEST/TEST/LDA/TEST_LDA_SOURCE.txt"
      ]
     },
     "metadata": {},
     "output_type": "display_data"
    },
    {
     "data": {
      "text/html": [
       "<pre>Parsing completed. Parsed 1417 lines in 0.024405 secs.</pre>"
      ],
      "text/plain": [
       "Parsing completed. Parsed 1417 lines in 0.024405 secs."
      ]
     },
     "metadata": {},
     "output_type": "display_data"
    },
    {
     "name": "stdout",
     "output_type": "stream",
     "text": [
      "\n",
      "Inferred types from first line of file as \n",
      "column_type_hints=[str]\n",
      "If parsing fails due to incorrect types, you can correct\n",
      "the inferred type list above and pass it to read_csv in\n",
      "the column_type_hints argument\n",
      "------------------------------------------------------\n"
     ]
    }
   ],
   "source": [
    "for fname in os.listdir(PATH_FINAL_TEST_SET):\n",
    "    if fname[0] == '.':\n",
    "        continue\n",
    "    if fname.startswith('Len') : \n",
    "        continue\n",
    "    # print fname\n",
    "    # print type( fname )\n",
    "    PATH_IN = os.path.join(PATH_FINAL_TEST_SET,fname)\n",
    "    print PATH_IN\n",
    "    \n",
    "    extract_normal_features(PATH_IN, PATH_NORMAL)\n",
    "    extract_text_features(PATH_IN, PATH_TEXT)\n",
    "    extract_overlap_features(PATH_TEXT, PATH_OVERLAP, PATH_NORMAL)\n",
    "    lda_source(PATH_TEXT, PATH_LDA)\n",
    "    normalize(PATH_NORMAL)\n",
    "    generate_s2v_features()\n",
    "    format_s2v_featues(PATH_LDA, PATH_S2V)\n",
    "    generate_topic_features()\n",
    "    format_topic_features(PATH_LDA)\n",
    "    merge_features(PATH_NORMAL, PATH_S2V, PATH_LDA, PATH_FINAL_TEST_FEATURES, fname)"
   ]
  },
  {
   "cell_type": "code",
   "execution_count": null,
   "metadata": {
    "collapsed": true
   },
   "outputs": [],
   "source": []
  }
 ],
 "metadata": {
  "kernelspec": {
   "display_name": "Python 2",
   "language": "python",
   "name": "python2"
  },
  "language_info": {
   "codemirror_mode": {
    "name": "ipython",
    "version": 2
   },
   "file_extension": ".py",
   "mimetype": "text/x-python",
   "name": "python",
   "nbconvert_exporter": "python",
   "pygments_lexer": "ipython2",
   "version": "2.7.10"
  }
 },
 "nbformat": 4,
 "nbformat_minor": 0
}
