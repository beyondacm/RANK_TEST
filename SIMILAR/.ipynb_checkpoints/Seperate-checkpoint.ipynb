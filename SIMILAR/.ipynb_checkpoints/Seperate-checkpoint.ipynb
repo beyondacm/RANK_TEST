{
 "cells": [
  {
   "cell_type": "code",
   "execution_count": 1,
   "metadata": {
    "collapsed": false
   },
   "outputs": [],
   "source": [
    "def Seperate_Similar_6( fname ) :\n",
    "    with open('./1000x10/SIMILAR_QID/' + fname, 'r') as fin, \\\n",
    "        open('./1000x6/SIMILAR_QID/' + fname, 'w') as fout:\n",
    "        for line in fin :\n",
    "            # line = f.readline()\n",
    "            # print line\n",
    "            similar_6 = line.split(',')[0:6]\n",
    "            fout.write(','.join(similar_6))\n",
    "            fout.write('\\n')\n",
    "            # print ','.join(similar_6)"
   ]
  },
  {
   "cell_type": "code",
   "execution_count": 2,
   "metadata": {
    "collapsed": true
   },
   "outputs": [],
   "source": [
    "def Seperate_Similar_7( fname ) :\n",
    "    with open('./1000x10/SIMILAR_QID/' + fname, 'r') as fin, \\\n",
    "        open('./1000x7/SIMILAR_QID/' + fname, 'w') as fout:\n",
    "        for line in fin :\n",
    "            # line = f.readline()\n",
    "            # print line\n",
    "            similar_7 = line.split(',')[0:7]\n",
    "            fout.write(','.join(similar_7))\n",
    "            fout.write('\\n')\n",
    "            # print ','.join(similar_6)"
   ]
  },
  {
   "cell_type": "code",
   "execution_count": 3,
   "metadata": {
    "collapsed": true
   },
   "outputs": [],
   "source": [
    "def Seperate_Similar_8( fname ) :\n",
    "    with open('./1000x10/SIMILAR_QID/' + fname, 'r') as fin, \\\n",
    "        open('./1000x8/SIMILAR_QID/' + fname, 'w') as fout:\n",
    "        for line in fin :\n",
    "            # line = f.readline()\n",
    "            # print line\n",
    "            similar_8 = line.split(',')[0:8]\n",
    "            fout.write(','.join(similar_8))\n",
    "            fout.write('\\n')\n",
    "            # print ','.join(similar_6)"
   ]
  },
  {
   "cell_type": "code",
   "execution_count": 4,
   "metadata": {
    "collapsed": true
   },
   "outputs": [],
   "source": [
    "def Seperate_Similar_9( fname ) :\n",
    "    with open('./1000x10/SIMILAR_QID/' + fname, 'r') as fin, \\\n",
    "        open('./1000x9/SIMILAR_QID/' + fname, 'w') as fout:\n",
    "        for line in fin :\n",
    "            # line = f.readline()\n",
    "            # print line\n",
    "            similar_9 = line.split(',')[0:9]\n",
    "            fout.write(','.join(similar_9))\n",
    "            fout.write('\\n')\n",
    "            # print ','.join(similar_6)"
   ]
  },
  {
   "cell_type": "code",
   "execution_count": 5,
   "metadata": {
    "collapsed": true
   },
   "outputs": [],
   "source": [
    "import os"
   ]
  },
  {
   "cell_type": "code",
   "execution_count": 6,
   "metadata": {
    "collapsed": false
   },
   "outputs": [],
   "source": [
    "for fname in os.listdir('./1000x10/SIMILAR_QID/') :\n",
    "    # print fname\n",
    "    Seperate_Similar_6( fname )\n",
    "    Seperate_Similar_7( fname )\n",
    "    Seperate_Similar_8( fname )\n",
    "    Seperate_Similar_9( fname )"
   ]
  },
  {
   "cell_type": "code",
   "execution_count": 7,
   "metadata": {
    "collapsed": true
   },
   "outputs": [],
   "source": [
    "# import json\n",
    "# import pickle\n",
    "\n",
    "def writeDict(dict, filename, sep):\n",
    "    with open(filename, \"w\") as f:\n",
    "#        for key in dict.keys():            \n",
    "#            f.write(str(key) + \":\" + str(dict[key]) + \"\\n\")\n",
    "        for key, value in sorted( dict.items() ):\n",
    "            f.write( str(key) + sep + ','.join(str(x) for x in value) + '\\n' )\n",
    "            \n",
    "def readDict(filename, sep):\n",
    "    with open(filename, \"r\") as f:\n",
    "        dict = {}\n",
    "        for line in f:\n",
    "            values = line.split(sep)\n",
    "            key = values[0]\n",
    "            # print key\n",
    "            value = values[1].split(',')\n",
    "            value = [int(x) for x in value]\n",
    "            # print value\n",
    "            #dict[values[0]] = {int(x) for x in values[1:len(values)]}\n",
    "            dict[key] = value\n",
    "        return(dict)"
   ]
  },
  {
   "cell_type": "code",
   "execution_count": 8,
   "metadata": {
    "collapsed": false
   },
   "outputs": [],
   "source": [
    "# similar_qid\n",
    "import pandas as pd\n",
    "Total_Test= pd.read_csv('./Total_Test.csv')"
   ]
  },
  {
   "cell_type": "code",
   "execution_count": 9,
   "metadata": {
    "collapsed": true
   },
   "outputs": [],
   "source": [
    "def Get_Index_QuestionID(qid) :\n",
    "    return Total_Test[ Total_Test['question_id'] == qid].index.values"
   ]
  },
  {
   "cell_type": "code",
   "execution_count": 10,
   "metadata": {
    "collapsed": true
   },
   "outputs": [],
   "source": [
    "def Get_IndexList(Q_List) :\n",
    "    IndexList = []\n",
    "    for qid in Q_List:\n",
    "        indexes = Get_Index_QuestionID( qid )\n",
    "        if len(indexes) == 0:\n",
    "            indexes = Get_Index_QuestionID( qid )\n",
    "        # print qid, indexes\n",
    "        for index in indexes:\n",
    "            IndexList.append(index)\n",
    "            # print len( IndexList )\n",
    "    return IndexList"
   ]
  },
  {
   "cell_type": "code",
   "execution_count": 11,
   "metadata": {
    "collapsed": true
   },
   "outputs": [],
   "source": [
    "# From Similar Qid List Found Similar Index\n",
    "def Get_Index_SimilarQID( Similar_Qid_List ) :\n",
    "    Similar_Index_List = {}\n",
    "    for i in range( len(Similar_Qid_List) ) :\n",
    "        key = 'Q' + str(i) + '_Similar_List'\n",
    "        # value is a list of similar qid\n",
    "        Qid_List = Similar_Qid_List[key]\n",
    "        Index_List = Get_IndexList(Qid_List)\n",
    "        Similar_Index_List[key]  = Index_List\n",
    "    \n",
    "    return Similar_Index_List"
   ]
  },
  {
   "cell_type": "code",
   "execution_count": 12,
   "metadata": {
    "collapsed": false
   },
   "outputs": [],
   "source": [
    "for fname in os.listdir('./1000x6/SIMILAR_QID/') :\n",
    "    # print fname\n",
    "    index_name = fname.replace('qid', 'index')\n",
    "    # print index_name\n",
    "    similar_qid = readDict( './1000x6/SIMILAR_QID/' + fname , ':')\n",
    "    similar_index = Get_Index_SimilarQID(similar_qid)\n",
    "    writeDict(similar_index, './1000x6/SIMILAR_INDEX/'+ index_name , ':')"
   ]
  },
  {
   "cell_type": "code",
   "execution_count": 13,
   "metadata": {
    "collapsed": true
   },
   "outputs": [],
   "source": [
    "for fname in os.listdir('./1000x7/SIMILAR_QID/') :\n",
    "    # print fname    \n",
    "    index_name = fname.replace('qid', 'index')\n",
    "    similar_qid = readDict( './1000x7/SIMILAR_QID/' + fname , ':')\n",
    "    similar_index = Get_Index_SimilarQID(similar_qid)\n",
    "    writeDict(similar_index, './1000x7/SIMILAR_INDEX/'+ index_name , ':')"
   ]
  },
  {
   "cell_type": "code",
   "execution_count": 14,
   "metadata": {
    "collapsed": true
   },
   "outputs": [],
   "source": [
    "for fname in os.listdir('./1000x8/SIMILAR_QID/') :\n",
    "    # print fname\n",
    "    index_name = fname.replace('qid', 'index')\n",
    "    similar_qid = readDict( './1000x8/SIMILAR_QID/' + fname , ':')\n",
    "    similar_index = Get_Index_SimilarQID(similar_qid)\n",
    "    writeDict(similar_index, './1000x8/SIMILAR_INDEX/'+ index_name , ':')"
   ]
  },
  {
   "cell_type": "code",
   "execution_count": 15,
   "metadata": {
    "collapsed": true
   },
   "outputs": [],
   "source": [
    "for fname in os.listdir('./1000x9/SIMILAR_QID/') :\n",
    "    # print fname\n",
    "    index_name = fname.replace('qid', 'index')\n",
    "    similar_qid = readDict( './1000x9/SIMILAR_QID/' + fname , ':')\n",
    "    similar_index = Get_Index_SimilarQID(similar_qid)\n",
    "    writeDict(similar_index, './1000x9/SIMILAR_INDEX/'+ index_name , ':')"
   ]
  },
  {
   "cell_type": "code",
   "execution_count": null,
   "metadata": {
    "collapsed": true
   },
   "outputs": [],
   "source": []
  }
 ],
 "metadata": {
  "kernelspec": {
   "display_name": "Python 2",
   "language": "python",
   "name": "python2"
  },
  "language_info": {
   "codemirror_mode": {
    "name": "ipython",
    "version": 2
   },
   "file_extension": ".py",
   "mimetype": "text/x-python",
   "name": "python",
   "nbconvert_exporter": "python",
   "pygments_lexer": "ipython2",
   "version": "2.7.10"
  }
 },
 "nbformat": 4,
 "nbformat_minor": 0
}
