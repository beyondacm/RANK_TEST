{
 "cells": [
  {
   "cell_type": "code",
   "execution_count": 1,
   "metadata": {
    "collapsed": false
   },
   "outputs": [],
   "source": [
    "import graphlab\n",
    "import numpy as np\n",
    "import pandas as pd\n",
    "# import matplotlib "
   ]
  },
  {
   "cell_type": "code",
   "execution_count": 2,
   "metadata": {
    "collapsed": false
   },
   "outputs": [],
   "source": [
    "# Drop the duplicates \n",
    "Total_Test = pd.read_csv(\"../Total_Test_AfterProcessing.csv\")\n",
    "Total_Test = Total_Test.drop_duplicates('answer_id')\n",
    "Total_Test = Total_Test.fillna(0)\n",
    "Total_Test['question_id'] = Total_Test['question_id'].astype(str)\n",
    "Total_Test['answer_voted'] = Total_Test['answer_voted'].astype(float)\n",
    "# Total_Test # 42512 rows × 18 columns"
   ]
  },
  {
   "cell_type": "code",
   "execution_count": 3,
   "metadata": {
    "collapsed": false
   },
   "outputs": [],
   "source": [
    "Total_Test.to_csv('./Total_Test.csv', encoding='utf-8', index = False)\n",
    "Total_Test= pd.read_csv('./Total_Test.csv')\n",
    "# Total_Test  # 42512 rows × 18 columns"
   ]
  },
  {
   "cell_type": "code",
   "execution_count": 4,
   "metadata": {
    "collapsed": false,
    "scrolled": true
   },
   "outputs": [],
   "source": [
    "# Total_Test  # 42512 rows × 18 columns\n",
    "been_voted = Total_Test[ Total_Test['answer_voted'] > 0 ]\n",
    "un_voted = Total_Test[ Total_Test['answer_voted'] == 0 ]\n",
    "been_voted = been_voted.drop_duplicates('question_id')\n",
    "been_voted.to_csv('./Been_Voted.csv', encoding='utf-8', index = False)\n",
    "# been_voted  # 17039 rows × 18 columns\n",
    "# un_voted    # 14823 rows × 18 columns"
   ]
  },
  {
   "cell_type": "code",
   "execution_count": 5,
   "metadata": {
    "collapsed": false
   },
   "outputs": [],
   "source": [
    "been_voted = pd.read_csv('./Been_Voted.csv')\n",
    "been_voted_qid = been_voted['question_id']\n",
    "# len(been_voted_qid)   # 17039\n",
    "# type(been_voted_qid)  # Series\n",
    "# been_voted_qid[10]"
   ]
  },
  {
   "cell_type": "code",
   "execution_count": 6,
   "metadata": {
    "collapsed": false
   },
   "outputs": [],
   "source": [
    "# been_voted_qid"
   ]
  },
  {
   "cell_type": "code",
   "execution_count": 7,
   "metadata": {
    "collapsed": false
   },
   "outputs": [],
   "source": [
    "# Our Strategy is Select Qid in Voted Question List, \n",
    "# Select Similar Question From Total Test Set "
   ]
  },
  {
   "cell_type": "code",
   "execution_count": 8,
   "metadata": {
    "collapsed": true
   },
   "outputs": [],
   "source": [
    "question_content = Total_Test[['question_id','question_content','question_tags']]\n",
    "# question_content  # 42512 rows × 3 columns\n",
    "question_content = question_content.drop_duplicates('question_id')\n",
    "# question_content # 31862 rows × 3 columns\n",
    "question_content.to_csv('./Question_Content.csv', encoding='utf-8', index = False)"
   ]
  },
  {
   "cell_type": "code",
   "execution_count": 9,
   "metadata": {
    "collapsed": false
   },
   "outputs": [
    {
     "name": "stderr",
     "output_type": "stream",
     "text": [
      "2016-04-28 12:23:58,587 [INFO] graphlab.cython.cy_server, 176: GraphLab Create v1.8.5 started. Logging: /tmp/graphlab_server_1461817437.log\n"
     ]
    },
    {
     "data": {
      "text/html": [
       "<pre>Finished parsing file /home/zpgao/ML/Best_Answer/SVM_RANK_master/SIMILAR/Question_Content.csv</pre>"
      ],
      "text/plain": [
       "Finished parsing file /home/zpgao/ML/Best_Answer/SVM_RANK_master/SIMILAR/Question_Content.csv"
      ]
     },
     "metadata": {},
     "output_type": "display_data"
    },
    {
     "data": {
      "text/html": [
       "<pre>Parsing completed. Parsed 100 lines in 0.132883 secs.</pre>"
      ],
      "text/plain": [
       "Parsing completed. Parsed 100 lines in 0.132883 secs."
      ]
     },
     "metadata": {},
     "output_type": "display_data"
    },
    {
     "name": "stdout",
     "output_type": "stream",
     "text": [
      "This non-commercial license of GraphLab Create is assigned to beyond_acm@163.com and will expire on January 04, 2017. For commercial licensing options, visit https://dato.com/buy/.\n",
      "------------------------------------------------------"
     ]
    },
    {
     "data": {
      "text/html": [
       "<pre>Finished parsing file /home/zpgao/ML/Best_Answer/SVM_RANK_master/SIMILAR/Question_Content.csv</pre>"
      ],
      "text/plain": [
       "Finished parsing file /home/zpgao/ML/Best_Answer/SVM_RANK_master/SIMILAR/Question_Content.csv"
      ]
     },
     "metadata": {},
     "output_type": "display_data"
    },
    {
     "data": {
      "text/html": [
       "<pre>Parsing completed. Parsed 31862 lines in 0.143407 secs.</pre>"
      ],
      "text/plain": [
       "Parsing completed. Parsed 31862 lines in 0.143407 secs."
      ]
     },
     "metadata": {},
     "output_type": "display_data"
    },
    {
     "name": "stdout",
     "output_type": "stream",
     "text": [
      "\n",
      "Inferred types from first line of file as \n",
      "column_type_hints=[int,str,str]\n",
      "If parsing fails due to incorrect types, you can correct\n",
      "the inferred type list above and pass it to read_csv in\n",
      "the column_type_hints argument\n",
      "------------------------------------------------------\n"
     ]
    }
   ],
   "source": [
    "question_content = graphlab.SFrame.read_csv('./Question_Content.csv')\n",
    "# question_content  # 31862 rows x 3 columns"
   ]
  },
  {
   "cell_type": "code",
   "execution_count": 10,
   "metadata": {
    "collapsed": false
   },
   "outputs": [],
   "source": [
    "# add 'text' && 'word_count' && 'tfidf' features\n",
    "question_content['text'] = question_content['question_tags'] + question_content['question_content']\n",
    "question_content['word_count'] = graphlab.text_analytics.count_words(question_content['text'])"
   ]
  },
  {
   "cell_type": "code",
   "execution_count": 11,
   "metadata": {
    "collapsed": false
   },
   "outputs": [],
   "source": [
    "tfidf = graphlab.text_analytics.tf_idf(question_content['word_count'])"
   ]
  },
  {
   "cell_type": "code",
   "execution_count": 12,
   "metadata": {
    "collapsed": true
   },
   "outputs": [],
   "source": [
    "question_content['tfidf'] = tfidf"
   ]
  },
  {
   "cell_type": "code",
   "execution_count": 13,
   "metadata": {
    "collapsed": false
   },
   "outputs": [
    {
     "data": {
      "text/plain": [
       "numpy.int64"
      ]
     },
     "execution_count": 13,
     "metadata": {},
     "output_type": "execute_result"
    }
   ],
   "source": [
    "# been_voted_qid\n",
    "type ( been_voted_qid[99] )"
   ]
  },
  {
   "cell_type": "code",
   "execution_count": 14,
   "metadata": {
    "collapsed": false
   },
   "outputs": [],
   "source": [
    "# question_content[ question_content['question_id'] == been_voted_qid[5] ]"
   ]
  },
  {
   "cell_type": "code",
   "execution_count": 15,
   "metadata": {
    "collapsed": false
   },
   "outputs": [],
   "source": [
    "# question_content\n",
    "# len(been_voted)  17039"
   ]
  },
  {
   "cell_type": "code",
   "execution_count": 24,
   "metadata": {
    "collapsed": false
   },
   "outputs": [],
   "source": [
    "def Select_Question( num_question, init_qid, step_size = 10):\n",
    "    # Initial selected_question\n",
    "    selected_question = question_content[ question_content['question_id'] == been_voted_qid[init_qid] ]\n",
    "    for i in range(num_question) :\n",
    "        # Random Select Index \n",
    "        selected_qid = been_voted_qid[init_qid + i*16 + 77]\n",
    "        # print init_qid + i*16 + 77\n",
    "        selected_content = question_content[ question_content['question_id'] == selected_qid ]\n",
    "        selected_question = selected_question.append(selected_content)\n",
    "    print init_qid + i*16 + 77\n",
    "    return selected_question"
   ]
  },
  {
   "cell_type": "code",
   "execution_count": 34,
   "metadata": {
    "collapsed": false
   },
   "outputs": [
    {
     "name": "stdout",
     "output_type": "stream",
     "text": [
      "1652\n",
      "3345\n",
      "4995\n",
      "6645\n",
      "8295\n",
      "9945\n",
      "11595\n",
      "13245\n",
      "14895\n",
      "16545\n"
     ]
    }
   ],
   "source": [
    "# Random Select 50 voted / Unvoted Question\n",
    "selected_00 = Select_Question(99, 7)\n",
    "selected_01 = Select_Question(99, 1700)\n",
    "selected_02 = Select_Question(99, 3350)\n",
    "selected_03 = Select_Question(99, 5000)\n",
    "selected_04 = Select_Question(99, 6650)\n",
    "selected_05 = Select_Question(99, 8300)\n",
    "selected_06 = Select_Question(99, 9950)\n",
    "selected_07 = Select_Question(99, 11600)\n",
    "selected_08 = Select_Question(99, 13250)\n",
    "selected_09 = Select_Question(99, 14900) "
   ]
  },
  {
   "cell_type": "code",
   "execution_count": 37,
   "metadata": {
    "collapsed": false
   },
   "outputs": [],
   "source": [
    "# len( selected )\n",
    "# len( selected_02 )"
   ]
  },
  {
   "cell_type": "code",
   "execution_count": 45,
   "metadata": {
    "collapsed": false
   },
   "outputs": [
    {
     "data": {
      "text/html": [
       "<pre>Starting brute force nearest neighbors model training.</pre>"
      ],
      "text/plain": [
       "Starting brute force nearest neighbors model training."
      ]
     },
     "metadata": {},
     "output_type": "display_data"
    }
   ],
   "source": [
    "knn_model = graphlab.nearest_neighbors.create(question_content, features=['tfidf'], label='question_id')"
   ]
  },
  {
   "cell_type": "code",
   "execution_count": 55,
   "metadata": {
    "collapsed": false
   },
   "outputs": [],
   "source": [
    "# selected_qid is a list \n",
    "# k is the num of similar questions\n",
    "def Get_Similar_SelectedID(selected_qid, similar_num=5) :\n",
    "    Similar_Qid_List = {}\n",
    "    for i in range( len(selected_qid) ) :\n",
    "        key = 'Q' + str(i) + '_Similar_List'\n",
    "        Q_i = selected_qid[i:i+1]\n",
    "        value = knn_model.query(Q_i, k = similar_num)['reference_label']\n",
    "        Similar_Qid_List[key] = value\n",
    "    return Similar_Qid_List"
   ]
  },
  {
   "cell_type": "code",
   "execution_count": 26,
   "metadata": {
    "collapsed": false
   },
   "outputs": [],
   "source": [
    "# import json\n",
    "# import pickle\n",
    "\n",
    "def writeDict(dict, filename, sep):\n",
    "    with open(filename, \"w\") as f:\n",
    "#        for key in dict.keys():            \n",
    "#            f.write(str(key) + \":\" + str(dict[key]) + \"\\n\")\n",
    "        for key, value in sorted( dict.items() ):\n",
    "            f.write( str(key) + sep + ','.join(str(x) for x in value) + '\\n' )"
   ]
  },
  {
   "cell_type": "code",
   "execution_count": 82,
   "metadata": {
    "collapsed": true
   },
   "outputs": [],
   "source": [
    "writeDict(similar_qid_00, './1000x5/SIMILAR_QID/similar_qid_00.txt', ':')\n",
    "writeDict(similar_qid_01, './1000x5/SIMILAR_QID/similar_qid_01.txt', ':')\n",
    "writeDict(similar_qid_02, './1000x5/SIMILAR_QID/similar_qid_02.txt', ':')\n",
    "writeDict(similar_qid_03, './1000x5/SIMILAR_QID/similar_qid_03.txt', ':')\n",
    "writeDict(similar_qid_04, './1000x5/SIMILAR_QID/similar_qid_04.txt', ':')\n",
    "writeDict(similar_qid_05, './1000x5/SIMILAR_QID/similar_qid_05.txt', ':')\n",
    "writeDict(similar_qid_06, './1000x5/SIMILAR_QID/similar_qid_06.txt', ':')\n",
    "writeDict(similar_qid_07, './1000x5/SIMILAR_QID/similar_qid_07.txt', ':')\n",
    "writeDict(similar_qid_08, './1000x5/SIMILAR_QID/similar_qid_08.txt', ':')\n",
    "writeDict(similar_qid_09, './1000x5/SIMILAR_QID/similar_qid_09.txt', ':')"
   ]
  },
  {
   "cell_type": "code",
   "execution_count": 83,
   "metadata": {
    "collapsed": true
   },
   "outputs": [],
   "source": [
    "def Get_Index_QuestionID(qid) :\n",
    "    return Total_Test[ Total_Test['question_id'] == qid].index.values"
   ]
  },
  {
   "cell_type": "code",
   "execution_count": 84,
   "metadata": {
    "collapsed": true
   },
   "outputs": [],
   "source": [
    "def Get_IndexList(Q_List) :\n",
    "    IndexList = []\n",
    "    for qid in Q_List:\n",
    "        indexes = Get_Index_QuestionID( qid )\n",
    "        if len(indexes) == 0:\n",
    "            indexes = Get_Index_QuestionID( qid )\n",
    "        # print qid, indexes\n",
    "        for index in indexes:\n",
    "            IndexList.append(index)\n",
    "            # print len( IndexList )\n",
    "    return IndexList"
   ]
  },
  {
   "cell_type": "code",
   "execution_count": 31,
   "metadata": {
    "collapsed": false
   },
   "outputs": [],
   "source": [
    "# From Similar Qid List Found Similar Index \n",
    "Similar_Index_List = {}\n",
    "for i in range( len(Similar_Qid_List) ) :\n",
    "    key = 'Q' + str(i) + '_Similar_List'\n",
    "    # value is a list of similar qid\n",
    "    Qid_List = Similar_Qid_List[key]\n",
    "    Index_List = Get_IndexList(Qid_List)\n",
    "    Similar_Index_List[key]  = Index_List    "
   ]
  },
  {
   "cell_type": "code",
   "execution_count": 32,
   "metadata": {
    "collapsed": false
   },
   "outputs": [],
   "source": [
    "# Similar_Index_List\n",
    "# len( Similar_Index_List )  # 50"
   ]
  },
  {
   "cell_type": "code",
   "execution_count": 77,
   "metadata": {
    "collapsed": false
   },
   "outputs": [],
   "source": []
  },
  {
   "cell_type": "code",
   "execution_count": 78,
   "metadata": {
    "collapsed": true
   },
   "outputs": [],
   "source": [
    "def readDict(filename, sep):\n",
    "    with open(filename, \"r\") as f:\n",
    "        dict = {}\n",
    "        for line in f:\n",
    "            values = line.split(sep)\n",
    "            key = values[0]\n",
    "            value = values[1].split(',')\n",
    "            #dict[values[0]] = {int(x) for x in values[1:len(values)]}\n",
    "            dict[key] = value\n",
    "        return(dict)"
   ]
  },
  {
   "cell_type": "code",
   "execution_count": 35,
   "metadata": {
    "collapsed": true
   },
   "outputs": [],
   "source": [
    "writeDict(Similar_Qid_List, './Similar_Qid_List.txt', ':')\n",
    "writeDict(Similar_Index_List, './Similar_Index_List.txt', ':')"
   ]
  },
  {
   "cell_type": "code",
   "execution_count": 36,
   "metadata": {
    "collapsed": false
   },
   "outputs": [],
   "source": [
    "test = readDict('./Similar_Qid_List.txt', ':')"
   ]
  },
  {
   "cell_type": "code",
   "execution_count": 37,
   "metadata": {
    "collapsed": false
   },
   "outputs": [
    {
     "data": {
      "text/plain": [
       "True"
      ]
     },
     "execution_count": 37,
     "metadata": {},
     "output_type": "execute_result"
    }
   ],
   "source": [
    "test == Similar_Qid_List"
   ]
  },
  {
   "cell_type": "code",
   "execution_count": null,
   "metadata": {
    "collapsed": true
   },
   "outputs": [],
   "source": []
  }
 ],
 "metadata": {
  "kernelspec": {
   "display_name": "Python 2",
   "language": "python",
   "name": "python2"
  },
  "language_info": {
   "codemirror_mode": {
    "name": "ipython",
    "version": 2
   },
   "file_extension": ".py",
   "mimetype": "text/x-python",
   "name": "python",
   "nbconvert_exporter": "python",
   "pygments_lexer": "ipython2",
   "version": "2.7.11"
  }
 },
 "nbformat": 4,
 "nbformat_minor": 0
}
